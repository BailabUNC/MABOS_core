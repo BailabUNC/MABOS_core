{
 "cells": [
  {
   "cell_type": "code",
   "execution_count": null,
   "id": "1c3e51d9-2c2f-49b1-a86d-28a76e7ef8e7",
   "metadata": {},
   "outputs": [],
   "source": [
    "from sensor_core import data_manager\n",
    "from sensor_core import plot_manager\n",
    "from sensor_core import strg_manager\n",
    "from sensor_core import ser_manager\n",
    "from sensor_core import mem_manager\n",
    "from sensor_core import utils\n",
    "import multiprocessing"
   ]
  },
  {
   "cell_type": "code",
   "execution_count": null,
   "id": "1abf3a6d-6772-4543-bd6e-117459532318",
   "metadata": {},
   "outputs": [],
   "source": [
    "ser_manager.find_serial()"
   ]
  },
  {
   "cell_type": "code",
   "execution_count": null,
   "id": "ce53d20a-f4b7-4f70-82c1-8b5bfa008550",
   "metadata": {},
   "outputs": [],
   "source": [
    "# User Defined Parameters\n",
    "channel_key = [\"red\", \"infrared\", \"violet\"]  # Names of channels\n",
    "commport = '/dev/ttyACM1'                    # Name of comm port\n",
    "baudrate = 115200                            # bits/second\n",
    "num_points = 1000                            # Number of points to plot, and to save per cycle\n",
    "window_size = 1                              # Number of points to acquire before updating plot"
   ]
  },
  {
   "cell_type": "code",
   "execution_count": null,
   "id": "33f5d912-19fc-48a2-aeb8-7dfdac9857e0",
   "metadata": {},
   "outputs": [],
   "source": [
    "# Setup Serial Manager\n",
    "sm = ser_manager.SerialManager(commport=commport, baudrate=baudrate)\n",
    "sm.setup_serial()"
   ]
  },
  {
   "cell_type": "code",
   "execution_count": null,
   "id": "8f0ea40c-375c-438f-935a-c2d23c083bc6",
   "metadata": {},
   "outputs": [],
   "source": [
    "# Setup Memory Manager\n",
    "mutex = mem_manager.create_mutex()\n",
    "shm, data_shared = mem_manager.create_shared_block(channel_key=channel_key, num_points=num_points)"
   ]
  },
  {
   "cell_type": "code",
   "execution_count": null,
   "id": "1c48f158-5254-4624-bbe2-757a895a1c49",
   "metadata": {},
   "outputs": [],
   "source": [
    "# Initialize Static Arguments Dictionary\n",
    "static_args_dict = {\n",
    "        \"channel_key\": channel_key,\n",
    "        \"commport\": commport,\n",
    "        \"baudrate\": baudrate,\n",
    "        \"mutex\": mutex,\n",
    "        \"shm_name\": shm.name,\n",
    "        \"shape\": data_shared.shape,\n",
    "        \"dtype\": data_shared.dtype,\n",
    "        \"EOL\": None,\n",
    "        \"num_points\": num_points\n",
    "    }"
   ]
  },
  {
   "cell_type": "code",
   "execution_count": null,
   "id": "413153e7-9d06-4f99-b658-1c773d3aa10d",
   "metadata": {},
   "outputs": [],
   "source": [
    "# Initialize Online Data Manager (without dynamic kwarg updates)\n",
    "odm = data_manager.OnlineDataManager(static_args_dict=static_args_dict)"
   ]
  },
  {
   "cell_type": "code",
   "execution_count": null,
   "id": "d4f51d1b-86b2-4152-b9f4-dc0861d7b377",
   "metadata": {},
   "outputs": [],
   "source": [
    "# Initialize Plot Manager\n",
    "pm = plot_manager.PlotManager(static_args_dict=static_args_dict)"
   ]
  },
  {
   "cell_type": "code",
   "execution_count": null,
   "id": "693b9668-d0b3-4a12-842b-abe54b8334c7",
   "metadata": {},
   "outputs": [],
   "source": [
    "# Acquire and Update Data in Separate Process, Instantiate plot\n",
    "p = multiprocessing.Process(name='update',\n",
    "                            target=odm.online_update_data)\n",
    "plot = pm.initialize_plot()"
   ]
  },
  {
   "cell_type": "code",
   "execution_count": null,
   "id": "aec3e81a-0f7b-4d48-a50f-9b7427422ed5",
   "metadata": {},
   "outputs": [],
   "source": [
    "# Start process, add callback function to plot to update plotting buffer data\n",
    "p.start()\n",
    "plot.add_animations(pm.online_grid_plot_data)"
   ]
  },
  {
   "cell_type": "code",
   "execution_count": null,
   "id": "cff91ce9-fd92-4ef6-947f-eb0e7f795546",
   "metadata": {},
   "outputs": [],
   "source": [
    "# Show Plot\n",
    "plot.show()"
   ]
  },
  {
   "cell_type": "code",
   "execution_count": null,
   "id": "05063777-82b3-45e1-a6a0-6057181dd971",
   "metadata": {},
   "outputs": [],
   "source": []
  }
 ],
 "metadata": {
  "kernelspec": {
   "display_name": "Python 3",
   "language": "python",
   "name": "python3"
  },
  "language_info": {
   "codemirror_mode": {
    "name": "ipython",
    "version": 3
   },
   "file_extension": ".py",
   "mimetype": "text/x-python",
   "name": "python",
   "nbconvert_exporter": "python",
   "pygments_lexer": "ipython3",
   "version": "3.9.5"
  }
 },
 "nbformat": 4,
 "nbformat_minor": 5
}
