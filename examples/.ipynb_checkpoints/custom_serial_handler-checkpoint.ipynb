{
 "cells": [
  {
   "cell_type": "code",
   "execution_count": null,
   "id": "a61ce1a1-14dd-4b6a-9ad1-201abb2fef1b",
   "metadata": {},
   "outputs": [],
   "source": [
    "from sensor_core import SensorManager\n",
    "from sensor_core import strg_manager\n",
    "from sensor_core import ser_manager\n",
    "import numpy as np"
   ]
  },
  {
   "cell_type": "code",
   "execution_count": null,
   "id": "b269214a-ec0c-494f-8aea-acc18cd78c3f",
   "metadata": {},
   "outputs": [],
   "source": [
    "# Find available serial ports\n",
    "ser_manager.find_serial()"
   ]
  },
  {
   "cell_type": "code",
   "execution_count": null,
   "id": "a0488dda-5a23-47cb-a7c0-6f2c15430a98",
   "metadata": {},
   "outputs": [],
   "source": [
    "# USER DEFINED PARAMS\n",
    "ser_channel_key = [\"time\", \"PV0\", \"PV1\", \"PV2\", \n",
    "                   \"PV3\", \"roll\", \"pitch\", \"yaw\"]  # Names of channels\n",
    "\n",
    "commport = '/dev/ttyACM0'                          # Name of comm port\n",
    "baudrate = 115200                                  # bits/second\n",
    "window_size = 1                                    # Number of points to acquire before updating plot"
   ]
  },
  {
   "cell_type": "code",
   "execution_count": null,
   "id": "93820e60-97ad-4ea6-a337-379e37291c02",
   "metadata": {},
   "outputs": [],
   "source": [
    "# Custom Serial Acquisition Function\n",
    "def acquire_data(ser, window_size, num_channel):\n",
    "    \"\"\" serial acquisition function handler. All parameters are internally generated\n",
    "    Must include the following parameters:\n",
    "    :param ser: serial port\n",
    "    :param window_size: number of frames to capture before passing to shared memory object. Default 1\n",
    "    :param num_channel: number of channels to capture. \n",
    "    \"\"\"\n",
    "    ser_data = np.zeros(num_channel)\n",
    "    channel_data = np.array([])\n",
    "\n",
    "    try:\n",
    "        data = ser.readline().decode('utf-8').strip().split('\\t')\n",
    "        for i in range(np.shape(data)[0]):\n",
    "            ser_data[i] = float(data[i])\n",
    "    except:\n",
    "        pass\n",
    "\n",
    "    channel_data = np.append(channel_data, ser_data)\n",
    "    return channel_data"
   ]
  },
  {
   "cell_type": "code",
   "execution_count": null,
   "id": "21499403-5b76-4f1d-a3e2-e7adf0010065",
   "metadata": {},
   "outputs": [],
   "source": [
    "# Test custom serial function\n",
    "ser = ser_manager.SerialManager(commport=commport, baudrate=baudrate, num_channel=8)\n",
    "ser.setup_serial()\n",
    "ser.acquire_data(func=acquire_data)"
   ]
  },
  {
   "cell_type": "code",
   "execution_count": null,
   "id": "38ec797f-8d2d-4c63-80db-1aa766ce97f9",
   "metadata": {},
   "outputs": [],
   "source": [
    "# Instantiate Sensor Manager class\n",
    "sm = SensorManager(ser_channel_key=channel_key, \n",
    "                   commport=commport, \n",
    "                   baudrate=baudrate, \n",
    "                   num_points=100, dtype=np.float64)"
   ]
  }
 ],
 "metadata": {
  "kernelspec": {
   "display_name": "Python 3",
   "language": "python",
   "name": "python3"
  },
  "language_info": {
   "codemirror_mode": {
    "name": "ipython",
    "version": 3
   },
   "file_extension": ".py",
   "mimetype": "text/x-python",
   "name": "python",
   "nbconvert_exporter": "python",
   "pygments_lexer": "ipython3",
   "version": "3.9.5"
  }
 },
 "nbformat": 4,
 "nbformat_minor": 5
}
