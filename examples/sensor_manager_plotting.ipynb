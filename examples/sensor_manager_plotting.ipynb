{
 "cells": [
  {
   "cell_type": "code",
   "execution_count": null,
   "id": "4866afbb",
   "metadata": {
    "tags": []
   },
   "outputs": [],
   "source": [
    "from sensor_core import SensorManager\n",
    "from sensor_core import strg_manager\n",
    "from sensor_core import ser_manager"
   ]
  },
  {
   "cell_type": "code",
   "execution_count": null,
   "id": "1a1340c0-312f-4edf-9061-c8f773edac21",
   "metadata": {
    "tags": []
   },
   "outputs": [],
   "source": [
    "# Find available serial ports\n",
    "ser_manager.find_serial()"
   ]
  },
  {
   "cell_type": "code",
   "execution_count": null,
   "id": "b99d60b5-a772-41d6-a086-cc9b8ade01ab",
   "metadata": {
    "tags": []
   },
   "outputs": [],
   "source": [
    "# USER DEFINED PARAMS\n",
    "channel_key = [\"red\", \"infrared\", \"violet\"]  # Names of channels\n",
    "commport = '/dev/ttyACM0'                    # Name of comm port\n",
    "baudrate = 115200                            # bits/second\n",
    "window_size = 1                              # Number of points to acquire before updating plot"
   ]
  },
  {
   "cell_type": "code",
   "execution_count": null,
   "id": "294d4287",
   "metadata": {
    "tags": []
   },
   "outputs": [],
   "source": [
    "# Instantiate Sensor Manager class\n",
    "sm = SensorManager(channel_key=channel_key, commport=commport, baudrate=baudrate, window_size = 1)"
   ]
  },
  {
   "cell_type": "code",
   "execution_count": null,
   "id": "d3646660",
   "metadata": {
    "tags": []
   },
   "outputs": [],
   "source": [
    "# Create 'update process' to handle acquired data\n",
    "p1 = sm.update_data_process(save_data=True, filepath = \"./serial_db.sqlite3\")\n",
    "plot = sm.setup_plot()"
   ]
  },
  {
   "cell_type": "code",
   "execution_count": null,
   "id": "712984d3-a202-418f-aa08-82a7aee648c0",
   "metadata": {
    "tags": []
   },
   "outputs": [],
   "source": [
    "# Start update process, start plotting process\n",
    "## Recommended to use in-built start_process function to avoid Windows OS issues\n",
    "sm.start_process(p1)\n",
    "plot.add_animations(sm.online_grid_plot_data)"
   ]
  },
  {
   "cell_type": "code",
   "execution_count": null,
   "id": "463c92ef-948a-4ec3-bcd9-65e1e5adcd82",
   "metadata": {
    "tags": []
   },
   "outputs": [],
   "source": [
    "# Show plot\n",
    "plot.show()"
   ]
  },
  {
   "cell_type": "code",
   "execution_count": null,
   "id": "2d3d2497-2f5f-4115-82a5-1538c4539816",
   "metadata": {
    "tags": []
   },
   "outputs": [],
   "source": [
    "# Dynamically Update Parameters (window size only)\n",
    "sm.update_params({\"window_size\":100})"
   ]
  },
  {
   "cell_type": "code",
   "execution_count": null,
   "id": "6999737a",
   "metadata": {},
   "outputs": [],
   "source": [
    "# To load channel data using Storage Manager\n",
    "red = strg_manager.StorageManager.load_serial_channel(key=\"red\",\n",
    "                                                      filepath=\"./serial_db.sqlite3\",\n",
    "                                                      keep_db_open=True)"
   ]
  },
  {
   "cell_type": "code",
   "execution_count": null,
   "id": "613348ea-eec8-4931-88dc-97941ddd657c",
   "metadata": {},
   "outputs": [],
   "source": [
    "# You can use the database object to load data from other keys within the same database\n",
    "## Example using a sqlite3 file\n",
    "database = strg_manager.StorageManager.load_serial_database(filepath=\"./serial_db.sqlite3\")\n",
    "with database:\n",
    "    ir = database['infrared']"
   ]
  },
  {
   "cell_type": "code",
   "execution_count": null,
   "id": "470a6a87-5ed4-4bf0-a836-b804c3e48247",
   "metadata": {},
   "outputs": [],
   "source": []
  }
 ],
 "metadata": {
  "kernelspec": {
   "display_name": "Python 3 (ipykernel)",
   "language": "python",
   "name": "python3"
  },
  "language_info": {
   "codemirror_mode": {
    "name": "ipython",
    "version": 3
   },
   "file_extension": ".py",
   "mimetype": "text/x-python",
   "name": "python",
   "nbconvert_exporter": "python",
   "pygments_lexer": "ipython3",
   "version": "3.11.5"
  }
 },
 "nbformat": 4,
 "nbformat_minor": 5
}
