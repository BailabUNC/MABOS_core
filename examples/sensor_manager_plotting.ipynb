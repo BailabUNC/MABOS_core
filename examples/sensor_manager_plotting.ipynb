{
 "cells": [
  {
   "cell_type": "code",
   "execution_count": null,
   "id": "4866afbb",
   "metadata": {
    "tags": []
   },
   "outputs": [],
   "source": [
    "from sensor_core import SensorManager\n",
    "from sensor_core import strg_manager\n",
    "from sensor_core import ser_manager"
   ]
  },
  {
   "cell_type": "code",
   "execution_count": null,
   "id": "1a1340c0-312f-4edf-9061-c8f773edac21",
   "metadata": {
    "tags": []
   },
   "outputs": [],
   "source": [
    "# Find available serial ports\n",
    "ser_manager.find_serial()"
   ]
  },
  {
   "cell_type": "code",
   "execution_count": null,
   "id": "b99d60b5-a772-41d6-a086-cc9b8ade01ab",
   "metadata": {
    "tags": []
   },
   "outputs": [],
   "source": [
    "# USER DEFINED PARAMS\n",
    "ser_channel_key = [\"red\", \"infrared\", \"green\", \n",
    "                   \"redc\", \"greenc\", \"bluec\"]                    # Names of serial channels\n",
    "plot_channel_key = [[\"red\", \"infrared\", \"green\"],\n",
    "                    [\"redc\", \"greenc\", \"bluec\"]]                 # Names and gridplot arrangement of plot channels\n",
    "commport = '/dev/ttyACM0'                                          # Name of comm port\n",
    "baudrate = 115200                                                  # bits/second\n",
    "window_size = 1                                                    # Number of points to acquire before updating plot"
   ]
  },
  {
   "cell_type": "code",
   "execution_count": null,
   "id": "294d4287",
   "metadata": {
    "tags": []
   },
   "outputs": [],
   "source": [
    "# Instantiate Sensor Manager class\n",
    "sm = SensorManager(ser_channel_key=ser_channel_key,\n",
    "                   plot_channel_key=plot_channel_key,\n",
    "                   commport=commport, \n",
    "                   baudrate=baudrate, \n",
    "                   window_size = 1,\n",
    "                   num_points = 200)"
   ]
  },
  {
   "cell_type": "code",
   "execution_count": null,
   "id": "d3646660",
   "metadata": {
    "tags": []
   },
   "outputs": [],
   "source": [
    "# Create 'update process' to handle acquired data\n",
    "update_process = sm.update_data_process(save_data=True, \n",
    "                                        filepath = \"./serial_db.sqlite3\")\n",
    "# Create 'plot process' to handle plotting. Returns plot object as well\n",
    "plot_process, plot = sm.setup_plotting_process()"
   ]
  },
  {
   "cell_type": "code",
   "execution_count": null,
   "id": "712984d3-a202-418f-aa08-82a7aee648c0",
   "metadata": {
    "tags": []
   },
   "outputs": [],
   "source": [
    "# Start update process, start plotting process\n",
    "## Recommended to use in-built start_process function to avoid Windows OS issues\n",
    "sm.start_process(update_process)\n",
    "sm.start_process(plot_process)"
   ]
  },
  {
   "cell_type": "code",
   "execution_count": null,
   "id": "463c92ef-948a-4ec3-bcd9-65e1e5adcd82",
   "metadata": {
    "tags": []
   },
   "outputs": [],
   "source": [
    "# Show plot\n",
    "plot.show()"
   ]
  },
  {
   "cell_type": "code",
   "execution_count": null,
   "id": "2d3d2497-2f5f-4115-82a5-1538c4539816",
   "metadata": {
    "tags": []
   },
   "outputs": [],
   "source": [
    "# Dynamically Update Parameters (window size only)\n",
    "sm.update_params(window_size=1)"
   ]
  },
  {
   "cell_type": "code",
   "execution_count": null,
   "id": "58ed54d4-a4d8-4a7f-909e-874280709ac4",
   "metadata": {},
   "outputs": [],
   "source": [
    "plot.close()"
   ]
  },
  {
   "cell_type": "code",
   "execution_count": null,
   "id": "6999737a",
   "metadata": {},
   "outputs": [],
   "source": [
    "# To load channel data using Storage Manager\n",
    "red = strg_manager.StorageManager.load_serial_channel(key=\"red\",\n",
    "                                                      filepath=\"./serial_db.sqlite3\")\n",
    "ir = strg_manager.StorageManager.load_serial_channel(key=\"infrared\",\n",
    "                                                      filepath=\"./serial_db.sqlite3\")\n",
    "len(red)"
   ]
  },
  {
   "cell_type": "code",
   "execution_count": null,
   "id": "a40274bd-deb9-40b8-8e36-914fbe885b20",
   "metadata": {},
   "outputs": [],
   "source": [
    "import matplotlib.pyplot as plt\n",
    "plt.plot(ir[700:1000])"
   ]
  },
  {
   "cell_type": "code",
   "execution_count": null,
   "id": "613348ea-eec8-4931-88dc-97941ddd657c",
   "metadata": {},
   "outputs": [],
   "source": [
    "# You can use the database object to load data from other keys within the same database\n",
    "## Example using a sqlite3 file\n",
    "database = strg_manager.StorageManager.load_serial_database(filepath=\"./serial_db.sqlite3\")\n",
    "with database:\n",
    "    ir = database['infrared']"
   ]
  },
  {
   "cell_type": "code",
   "execution_count": null,
   "id": "6fe87581-105d-47c7-a5f3-aad809d2530f",
   "metadata": {},
   "outputs": [],
   "source": []
  }
 ],
 "metadata": {
  "kernelspec": {
   "display_name": "Python 3 (ipykernel)",
   "language": "python",
   "name": "python3"
  },
  "language_info": {
   "codemirror_mode": {
    "name": "ipython",
    "version": 3
   },
   "file_extension": ".py",
   "mimetype": "text/x-python",
   "name": "python",
   "nbconvert_exporter": "python",
   "pygments_lexer": "ipython3",
   "version": "3.12.3"
  }
 },
 "nbformat": 4,
 "nbformat_minor": 5
}
