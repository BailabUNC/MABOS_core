{
 "cells": [
  {
   "cell_type": "code",
   "execution_count": 1,
   "id": "1170674b-b88f-4cfe-a91f-64b2080d87f0",
   "metadata": {},
   "outputs": [],
   "source": [
    "from sensor_core import SensorManager\n",
    "from sensor_core import strg_manager\n",
    "from sensor_core import ser_manager\n",
    "import numpy as np"
   ]
  },
  {
   "cell_type": "code",
   "execution_count": 2,
   "id": "764fa50e-c8a5-43d1-995e-19f8c60c22f9",
   "metadata": {},
   "outputs": [],
   "source": [
    "# USER DEFINED PARAMS\n",
    "ser_channel_key = [\"red\", \"infrared\", \"violet\"]                    # Names of serial channels\n",
    "plot_channel_key = [[\"red\", \"infrared\", \"violet\"]]                 # Names and gridplot arrangement of plot channels\n",
    "commport = None                                                    # Name of comm port\n",
    "baudrate = None                                                    # bits/second\n",
    "window_size = 1                                                    # Number of points to acquire before updating plot"
   ]
  },
  {
   "cell_type": "code",
   "execution_count": 3,
   "id": "c52227d7-190f-4e32-bd93-c11bd2df6ab7",
   "metadata": {},
   "outputs": [],
   "source": [
    "# Custom Serial Acquisition Function\n",
    "def acquire_data(ser, window_size, num_channel):\n",
    "    \"\"\" serial acquisition function handler. All parameters are internally generated\n",
    "    Must include the following parameters:\n",
    "    :param ser: serial port\n",
    "    :param window_size: number of frames to capture before passing to shared memory object. Default 1\n",
    "    :param num_channel: number of channels to capture. \n",
    "    \"\"\"\n",
    "    channel_data = np.random.rand(3)\n",
    "    return channel_data"
   ]
  },
  {
   "cell_type": "code",
   "execution_count": 4,
   "id": "da9c1f79-a817-4d06-9107-f316fb7b3d4d",
   "metadata": {},
   "outputs": [],
   "source": [
    "# Instantiate Sensor Manager class\n",
    "sm = SensorManager(ser_channel_key=ser_channel_key,\n",
    "                   plot_channel_key=plot_channel_key,\n",
    "                   commport=commport, \n",
    "                   baudrate=baudrate, \n",
    "                   window_size = window_size)"
   ]
  },
  {
   "cell_type": "code",
   "execution_count": 5,
   "id": "fa93006d-1d9f-481c-90d9-003b8e8e5fe4",
   "metadata": {},
   "outputs": [
    {
     "data": {
      "application/vnd.jupyter.widget-view+json": {
       "model_id": "ad84558b4dfa4a98a84bfed36d6b4e32",
       "version_major": 2,
       "version_minor": 0
      },
      "text/plain": [
       "RFBOutputContext()"
      ]
     },
     "metadata": {},
     "output_type": "display_data"
    },
    {
     "name": "stderr",
     "output_type": "stream",
     "text": [
      "No config found!\n",
      "EGL says it can present to the window but not natively\n",
      "/home/nellab/Desktop/fastplotlib/fastplotlib/graphics/_features/_base.py:34: UserWarning: converting float64 array to float32\n",
      "  warn(f\"converting {array.dtype} array to float32\")\n"
     ]
    }
   ],
   "source": [
    "# Create 'update process' to handle acquired data\n",
    "p1 = sm.update_data_process(save_data=True, \n",
    "                            filepath='./serial_db.sqlite3',\n",
    "                            virtual_ser_port = True,\n",
    "                            func=acquire_data)\n",
    "plot = sm.setup_plot()"
   ]
  },
  {
   "cell_type": "code",
   "execution_count": 6,
   "id": "7e25ebce-6c9c-48a8-9fc6-352019cdec3a",
   "metadata": {},
   "outputs": [],
   "source": [
    "# Start update process, start plotting process\n",
    "## Recommended to use in-built start_process function to avoid Windows OS issues\n",
    "sm.start_process(p1)\n",
    "plot.add_animations(sm.online_grid_plot_data)"
   ]
  },
  {
   "cell_type": "code",
   "execution_count": 7,
   "id": "ce4859c8-692b-4797-8378-a5e6edac8a6a",
   "metadata": {},
   "outputs": [
    {
     "data": {
      "application/vnd.jupyter.widget-view+json": {
       "model_id": "86222986ecf943adb9ee2e49e4086c80",
       "version_major": 2,
       "version_minor": 0
      },
      "text/plain": [
       "JupyterOutputContext(children=(JupyterWgpuCanvas(), IpywidgetToolBar(children=(Button(icon='expand-arrows-alt'…"
      ]
     },
     "execution_count": 7,
     "metadata": {},
     "output_type": "execute_result"
    }
   ],
   "source": [
    "# Show plot\n",
    "plot.show()"
   ]
  },
  {
   "cell_type": "code",
   "execution_count": null,
   "id": "90ee4f95-4387-45c3-9e67-ea48cd8633e3",
   "metadata": {},
   "outputs": [],
   "source": []
  }
 ],
 "metadata": {
  "kernelspec": {
   "display_name": "Python 3",
   "language": "python",
   "name": "python3"
  },
  "language_info": {
   "codemirror_mode": {
    "name": "ipython",
    "version": 3
   },
   "file_extension": ".py",
   "mimetype": "text/x-python",
   "name": "python",
   "nbconvert_exporter": "python",
   "pygments_lexer": "ipython3",
   "version": "3.9.5"
  }
 },
 "nbformat": 4,
 "nbformat_minor": 5
}
