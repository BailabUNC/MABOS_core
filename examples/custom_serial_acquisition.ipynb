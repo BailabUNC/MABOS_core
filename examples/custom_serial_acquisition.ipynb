{
 "cells": [
  {
   "cell_type": "code",
   "execution_count": null,
   "id": "a6323fb5-d9c9-4c88-8934-1fec0012f953",
   "metadata": {},
   "outputs": [],
   "source": [
    "from sensor_core import SensorManager\n",
    "from sensor_core import strg_manager\n",
    "from sensor_core import ser_manager\n",
    "import numpy as np\n",
    "from itertools import product"
   ]
  },
  {
   "cell_type": "code",
   "execution_count": null,
   "id": "3da20cd3-4cf2-4b40-a79e-c220f1c65e50",
   "metadata": {},
   "outputs": [],
   "source": [
    "# Find available serial ports\n",
    "ser_manager.find_serial()"
   ]
  },
  {
   "cell_type": "code",
   "execution_count": null,
   "id": "298b6070-82e6-484f-8528-84964cafa6ab",
   "metadata": {},
   "outputs": [],
   "source": [
    "# USER DEFINED PARAMS\n",
    "ser_channel_key = [\"red\", \"infrared\", \"violet\"]                    # Names of serial channels\n",
    "plot_channel_key = [[\"red\", \"infrared\", \"violet\"]]                 # Names and gridplot arrangement of plot channels\n",
    "commport = '/dev/ttyACM0'                                          # Name of comm port\n",
    "baudrate = 115200                                                  # bits/second\n",
    "window_size = 1                                                    # Number of points to acquire before updating plot"
   ]
  },
  {
   "cell_type": "code",
   "execution_count": null,
   "id": "41587ae7-fb04-4adb-86e3-52c27d90dbb2",
   "metadata": {},
   "outputs": [],
   "source": [
    "# Custom Serial Acquisition Function\n",
    "def acquire_data(ser):\n",
    "    \"\"\" serial acquisition function handler. All parameters are internally generated\n",
    "    Must include the following parameters:\n",
    "    :param ser: serial port\n",
    "    \"\"\"\n",
    "    window_size = 1\n",
    "    num_channels = 3\n",
    "    ser_data = np.zeros((window_size, num_channels))\n",
    "    channel_data = np.array([])\n",
    "    # Decode incoming data into ser_data array\n",
    "    for i in product((range(window_size)), range(num_channels)):\n",
    "        try:\n",
    "            ser_data[i] = ser.readline().decode().strip()\n",
    "        except ValueError:\n",
    "            pass\n",
    "\n",
    "    # If any zeros\n",
    "    for i in range(window_size):\n",
    "        if any(ser_data[i, :] == 0):\n",
    "            pass\n",
    "        else:\n",
    "            channel_data = np.append(channel_data, ser_data[i][:])\n",
    "\n",
    "    channel_data = np.reshape(channel_data, (int(len(channel_data) / num_channels), num_channels))\n",
    "\n",
    "    return channel_data\n"
   ]
  },
  {
   "cell_type": "code",
   "execution_count": null,
   "id": "cc35badf-152a-42b4-b310-ee66ab0f90b0",
   "metadata": {},
   "outputs": [],
   "source": [
    "# Test custom serial function\n",
    "# ser = ser_manager.SerialManager(commport=commport, baudrate=baudrate, num_channel=8)\n",
    "# ser.setup_serial()\n",
    "# ser.acquire_data(func=acquire_data)"
   ]
  },
  {
   "cell_type": "code",
   "execution_count": null,
   "id": "85401fba-0a7a-4a5d-89d1-954e34c4ed01",
   "metadata": {},
   "outputs": [],
   "source": [
    "# Instantiate Sensor Manager class\n",
    "sm = SensorManager(ser_channel_key=ser_channel_key,\n",
    "                   plot_channel_key=plot_channel_key,\n",
    "                   commport=commport, \n",
    "                   baudrate=baudrate, \n",
    "                   window_size = window_size)"
   ]
  },
  {
   "cell_type": "code",
   "execution_count": null,
   "id": "43b70b20-a2bf-4c66-a370-9c8afb274208",
   "metadata": {},
   "outputs": [],
   "source": [
    "# Create 'update process' to handle acquired data\n",
    "p1 = sm.update_data_process(save_data=True, \n",
    "                            filepath = \"./serial_db.sqlite3\",\n",
    "                            func=acquire_data)\n",
    "plot = sm.setup_plot()"
   ]
  },
  {
   "cell_type": "code",
   "execution_count": null,
   "id": "94b623ba-9e65-4f92-9b66-be7da86e6113",
   "metadata": {},
   "outputs": [],
   "source": [
    "# Start update process, start plotting process\n",
    "## Recommended to use in-built start_process function to avoid Windows OS issues\n",
    "sm.start_process(p1)\n",
    "plot.add_animations(sm.online_grid_plot_data)"
   ]
  },
  {
   "cell_type": "code",
   "execution_count": null,
   "id": "64573b6c-c94f-4ab0-8be8-9e8376a4368b",
   "metadata": {},
   "outputs": [],
   "source": [
    "# Show plot\n",
    "plot.show()"
   ]
  },
  {
   "cell_type": "code",
   "execution_count": null,
   "id": "db54c710-2180-4250-8ce9-0307feab590a",
   "metadata": {},
   "outputs": [],
   "source": []
  }
 ],
 "metadata": {
  "kernelspec": {
   "display_name": "Python 3 (ipykernel)",
   "language": "python",
   "name": "python3"
  },
  "language_info": {
   "codemirror_mode": {
    "name": "ipython",
    "version": 3
   },
   "file_extension": ".py",
   "mimetype": "text/x-python",
   "name": "python",
   "nbconvert_exporter": "python",
   "pygments_lexer": "ipython3",
   "version": "3.11.5"
  }
 },
 "nbformat": 4,
 "nbformat_minor": 5
}
