{
 "cells": [
  {
   "cell_type": "code",
   "execution_count": null,
   "id": "a6323fb5-d9c9-4c88-8934-1fec0012f953",
   "metadata": {},
   "outputs": [],
   "source": [
    "from sensor_core import SensorManager\n",
    "from sensor_core import strg_manager\n",
    "from sensor_core import ser_manager\n",
    "import numpy as np"
   ]
  },
  {
   "cell_type": "code",
   "execution_count": null,
   "id": "3da20cd3-4cf2-4b40-a79e-c220f1c65e50",
   "metadata": {},
   "outputs": [],
   "source": [
    "# Find available serial ports\n",
    "ser_manager.find_serial()"
   ]
  },
  {
   "cell_type": "code",
   "execution_count": null,
   "id": "298b6070-82e6-484f-8528-84964cafa6ab",
   "metadata": {},
   "outputs": [],
   "source": [
    "# USER DEFINED PARAMS\n",
    "channel_key = [\"time\", \"PV0\", \"PV1\", \"PV2\", \"PV3\", \"roll\", \"pitch\", \"yaw\"]  # Names of channels\n",
    "commport = '/dev/ttyACM0'                    # Name of comm port\n",
    "baudrate = 115200                            # bits/second\n",
    "window_size = 1                              # Number of points to acquire before updating plot"
   ]
  },
  {
   "cell_type": "code",
   "execution_count": null,
   "id": "41587ae7-fb04-4adb-86e3-52c27d90dbb2",
   "metadata": {},
   "outputs": [],
   "source": [
    "# Custom Serial Acquisition Function\n",
    "def acquire_data(ser, window_size, num_channel):\n",
    "    \"\"\" serial acquisition function handler. All parameters are internally generated\n",
    "    Must include the following parameters:\n",
    "    :param ser: serial port\n",
    "    :param window_size: number of frames to capture before passing to shared memory object. Default 1\n",
    "    :param num_channel: number of channels to capture. \n",
    "    \"\"\"\n",
    "    ser_data = np.zeros(num_channel)\n",
    "    channel_data = np.array([])\n",
    "\n",
    "    try:\n",
    "        data = ser.readline().decode('utf-8').strip().split('\\t')\n",
    "        for i in range(np.shape(data)[0]):\n",
    "            ser_data[i] = float(data[i])\n",
    "    except:\n",
    "        pass\n",
    "\n",
    "    channel_data = np.append(channel_data, ser_data)\n",
    "    return channel_data"
   ]
  },
  {
   "cell_type": "code",
   "execution_count": null,
   "id": "cc35badf-152a-42b4-b310-ee66ab0f90b0",
   "metadata": {},
   "outputs": [],
   "source": [
    "# Test custom serial function\n",
    "# ser = ser_manager.SerialManager(commport=commport, baudrate=baudrate, num_channel=8)\n",
    "# ser.setup_serial()\n",
    "# ser.acquire_data(func=acquire_data)"
   ]
  },
  {
   "cell_type": "code",
   "execution_count": null,
   "id": "85401fba-0a7a-4a5d-89d1-954e34c4ed01",
   "metadata": {},
   "outputs": [],
   "source": [
    "# Instantiate Sensor Manager class\n",
    "sm = SensorManager(channel_key=channel_key, commport=commport, \n",
    "                   baudrate=baudrate, num_points=100, dtype=np.float64)"
   ]
  },
  {
   "cell_type": "code",
   "execution_count": null,
   "id": "43b70b20-a2bf-4c66-a370-9c8afb274208",
   "metadata": {},
   "outputs": [],
   "source": [
    "# Create 'update process' to handle acquired data\n",
    "p1 = sm.update_data_process(save_data=True, \n",
    "                            filepath = \"./serial_db.sqlite3\",\n",
    "                            func=acquire_data)\n",
    "plot = sm.setup_plot()"
   ]
  },
  {
   "cell_type": "code",
   "execution_count": null,
   "id": "94b623ba-9e65-4f92-9b66-be7da86e6113",
   "metadata": {},
   "outputs": [],
   "source": [
    "# Start update process, start plotting process\n",
    "## Recommended to use in-built start_process function to avoid Windows OS issues\n",
    "sm.start_process(p1)\n",
    "plot.add_animations(sm.online_grid_plot_data)"
   ]
  },
  {
   "cell_type": "code",
   "execution_count": null,
   "id": "64573b6c-c94f-4ab0-8be8-9e8376a4368b",
   "metadata": {},
   "outputs": [],
   "source": [
    "# Show plot\n",
    "plot.show()"
   ]
  },
  {
   "cell_type": "code",
   "execution_count": null,
   "id": "db54c710-2180-4250-8ce9-0307feab590a",
   "metadata": {},
   "outputs": [],
   "source": []
  }
 ],
 "metadata": {
  "kernelspec": {
   "display_name": "Python 3",
   "language": "python",
   "name": "python3"
  },
  "language_info": {
   "codemirror_mode": {
    "name": "ipython",
    "version": 3
   },
   "file_extension": ".py",
   "mimetype": "text/x-python",
   "name": "python",
   "nbconvert_exporter": "python",
   "pygments_lexer": "ipython3",
   "version": "3.9.5"
  }
 },
 "nbformat": 4,
 "nbformat_minor": 5
}
