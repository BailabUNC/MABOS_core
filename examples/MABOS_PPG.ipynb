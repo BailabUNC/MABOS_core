{
 "cells": [
  {
   "cell_type": "code",
   "execution_count": 1,
   "id": "4866afbb",
   "metadata": {},
   "outputs": [],
   "source": [
    "from MABOS_core import SensorManager\n",
    "from MABOS_core import plot_manager as pm\n",
    "from MABOS_core import strg_manager\n",
    "from functools import partial"
   ]
  },
  {
   "cell_type": "code",
   "execution_count": null,
   "id": "b99d60b5-a772-41d6-a086-cc9b8ade01ab",
   "metadata": {},
   "outputs": [],
   "source": [
    "# USER DEFINED \n",
    "channel_key = [\"Red\"]\n",
    "baudrate = 115200\n",
    "commport = '/dev/ttyACM0'"
   ]
  },
  {
   "cell_type": "code",
   "execution_count": null,
   "id": "294d4287",
   "metadata": {},
   "outputs": [],
   "source": [
    "# Instantiate Central Manager class\n",
    "sm = SensorManager(channel_key=channel_key, commport=commport, baudrate=baudrate, window_size = 1)"
   ]
  },
  {
   "cell_type": "code",
   "execution_count": null,
   "id": "d3646660",
   "metadata": {},
   "outputs": [],
   "source": [
    "# Create 'update process' to handle acquired data\n",
    "p1 = sm.update_process(save_data=True)\n",
    "plot = sm.args_dict[\"plot\"]"
   ]
  },
  {
   "cell_type": "code",
   "execution_count": null,
   "id": "712984d3-a202-418f-aa08-82a7aee648c0",
   "metadata": {},
   "outputs": [],
   "source": [
    "# Start update process, start plotting process\n",
    "p1.start()\n",
    "plot.add_animations(partial(pm.obtain_grid_plot_data, sm.args_dict, ))"
   ]
  },
  {
   "cell_type": "code",
   "execution_count": null,
   "id": "463c92ef-948a-4ec3-bcd9-65e1e5adcd82",
   "metadata": {},
   "outputs": [],
   "source": [
    "plot.show()"
   ]
  },
  {
   "cell_type": "code",
   "execution_count": 5,
   "id": "6999737a",
   "metadata": {},
   "outputs": [],
   "source": [
    "# To load channel data\n",
    "red = strg_manager._load_channel(\"Red\")\n",
    "red"
   ]
  },
  {
   "cell_type": "code",
   "execution_count": null,
   "id": "d1ebee7e-74ec-4258-94b2-88300ac8ec8a",
   "metadata": {},
   "outputs": [],
   "source": []
  }
 ],
 "metadata": {
  "kernelspec": {
   "display_name": "MABOS",
   "language": "python",
   "name": "mabos"
  },
  "language_info": {
   "codemirror_mode": {
    "name": "ipython",
    "version": 3
   },
   "file_extension": ".py",
   "mimetype": "text/x-python",
   "name": "python",
   "nbconvert_exporter": "python",
   "pygments_lexer": "ipython3",
   "version": "3.11.3"
  }
 },
 "nbformat": 4,
 "nbformat_minor": 5
}
